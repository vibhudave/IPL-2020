{
 "cells": [
  {
   "cell_type": "code",
   "execution_count": 1,
   "metadata": {},
   "outputs": [],
   "source": [
    "#import libraries \n",
    "import pandas as pd\n",
    "import numpy as np\n",
    "import seaborn as sns\n",
    "import matplotlib.pyplot as plt"
   ]
  },
  {
   "cell_type": "code",
   "execution_count": 19,
   "metadata": {},
   "outputs": [
    {
     "name": "stdout",
     "output_type": "stream",
     "text": [
      "<class 'pandas.core.frame.DataFrame'>\n",
      "RangeIndex: 56 entries, 0 to 55\n",
      "Data columns (total 18 columns):\n",
      "id                 56 non-null int64\n",
      "season             56 non-null int64\n",
      "city               56 non-null object\n",
      "date               56 non-null object\n",
      "team1              56 non-null object\n",
      "team2              56 non-null object\n",
      "toss_winner        56 non-null object\n",
      "toss_decision      56 non-null object\n",
      "result             56 non-null object\n",
      "dl_applied         56 non-null int64\n",
      "winner             56 non-null object\n",
      "win_by_runs        56 non-null int64\n",
      "win_by_wickets     56 non-null int64\n",
      "player_of_match    56 non-null object\n",
      "venue              56 non-null object\n",
      "umpire1            56 non-null object\n",
      "umpire2            56 non-null object\n",
      "umpire3            56 non-null object\n",
      "dtypes: int64(5), object(13)\n",
      "memory usage: 8.0+ KB\n"
     ]
    },
    {
     "data": {
      "text/html": [
       "<div>\n",
       "<style scoped>\n",
       "    .dataframe tbody tr th:only-of-type {\n",
       "        vertical-align: middle;\n",
       "    }\n",
       "\n",
       "    .dataframe tbody tr th {\n",
       "        vertical-align: top;\n",
       "    }\n",
       "\n",
       "    .dataframe thead th {\n",
       "        text-align: right;\n",
       "    }\n",
       "</style>\n",
       "<table border=\"1\" class=\"dataframe\">\n",
       "  <thead>\n",
       "    <tr style=\"text-align: right;\">\n",
       "      <th></th>\n",
       "      <th>id</th>\n",
       "      <th>season</th>\n",
       "      <th>city</th>\n",
       "      <th>date</th>\n",
       "      <th>team1</th>\n",
       "      <th>team2</th>\n",
       "      <th>toss_winner</th>\n",
       "      <th>toss_decision</th>\n",
       "      <th>result</th>\n",
       "      <th>dl_applied</th>\n",
       "      <th>winner</th>\n",
       "      <th>win_by_runs</th>\n",
       "      <th>win_by_wickets</th>\n",
       "      <th>player_of_match</th>\n",
       "      <th>venue</th>\n",
       "      <th>umpire1</th>\n",
       "      <th>umpire2</th>\n",
       "      <th>umpire3</th>\n",
       "    </tr>\n",
       "  </thead>\n",
       "  <tbody>\n",
       "    <tr>\n",
       "      <th>0</th>\n",
       "      <td>1216492</td>\n",
       "      <td>2020</td>\n",
       "      <td>Abu Dhabi</td>\n",
       "      <td>09/19/2020</td>\n",
       "      <td>MI</td>\n",
       "      <td>CSK</td>\n",
       "      <td>CSK</td>\n",
       "      <td>field</td>\n",
       "      <td>normal</td>\n",
       "      <td>0</td>\n",
       "      <td>CSK</td>\n",
       "      <td>0</td>\n",
       "      <td>5</td>\n",
       "      <td>AT Rayudu</td>\n",
       "      <td>Sheikh Zayed Stadium, Abu Dhabi</td>\n",
       "      <td>Chris Gaffaney</td>\n",
       "      <td>Virender Sharma</td>\n",
       "      <td>Sundaram Ravi</td>\n",
       "    </tr>\n",
       "    <tr>\n",
       "      <th>1</th>\n",
       "      <td>1216493</td>\n",
       "      <td>2020</td>\n",
       "      <td>Dubai (DSC)</td>\n",
       "      <td>09/20/2020</td>\n",
       "      <td>DC</td>\n",
       "      <td>KXIP</td>\n",
       "      <td>KXIP</td>\n",
       "      <td>field</td>\n",
       "      <td>tie</td>\n",
       "      <td>0</td>\n",
       "      <td>DC</td>\n",
       "      <td>0</td>\n",
       "      <td>0</td>\n",
       "      <td>MP Stoinis</td>\n",
       "      <td>Dubai International Cricket Stadium</td>\n",
       "      <td>Anil Chaudhary</td>\n",
       "      <td>Nitin Menon</td>\n",
       "      <td>Paul Reiffel</td>\n",
       "    </tr>\n",
       "    <tr>\n",
       "      <th>2</th>\n",
       "      <td>1216534</td>\n",
       "      <td>2020</td>\n",
       "      <td>Dubai (DSC)</td>\n",
       "      <td>09/21/2020</td>\n",
       "      <td>SRH</td>\n",
       "      <td>RCB</td>\n",
       "      <td>SRH</td>\n",
       "      <td>field</td>\n",
       "      <td>normal</td>\n",
       "      <td>0</td>\n",
       "      <td>RCB</td>\n",
       "      <td>10</td>\n",
       "      <td>0</td>\n",
       "      <td>YS Chahal</td>\n",
       "      <td>Dubai International Cricket Stadium</td>\n",
       "      <td>Anil Dandekar</td>\n",
       "      <td>Nitin Menon</td>\n",
       "      <td>Anil Chaudhary</td>\n",
       "    </tr>\n",
       "    <tr>\n",
       "      <th>3</th>\n",
       "      <td>1216496</td>\n",
       "      <td>2020</td>\n",
       "      <td>Sharjah</td>\n",
       "      <td>09/22/2020</td>\n",
       "      <td>RR</td>\n",
       "      <td>CSK</td>\n",
       "      <td>CSK</td>\n",
       "      <td>field</td>\n",
       "      <td>normal</td>\n",
       "      <td>0</td>\n",
       "      <td>RR</td>\n",
       "      <td>16</td>\n",
       "      <td>0</td>\n",
       "      <td>SV Samson</td>\n",
       "      <td>Sharjah Cricket Stadium</td>\n",
       "      <td>Chettithody Shamshuddin</td>\n",
       "      <td>Vineet Kulkarni</td>\n",
       "      <td>KN Ananthapadmanabhan</td>\n",
       "    </tr>\n",
       "    <tr>\n",
       "      <th>4</th>\n",
       "      <td>1216508</td>\n",
       "      <td>2020</td>\n",
       "      <td>Abu Dhabi</td>\n",
       "      <td>09/23/2020</td>\n",
       "      <td>KKR</td>\n",
       "      <td>MI</td>\n",
       "      <td>KKR</td>\n",
       "      <td>field</td>\n",
       "      <td>normal</td>\n",
       "      <td>0</td>\n",
       "      <td>MI</td>\n",
       "      <td>49</td>\n",
       "      <td>0</td>\n",
       "      <td>RG Sharma</td>\n",
       "      <td>Sheikh Zayed Stadium, Abu Dhabi</td>\n",
       "      <td>Chris Gaffaney</td>\n",
       "      <td>Sundaram Ravi</td>\n",
       "      <td>Virender Sharma</td>\n",
       "    </tr>\n",
       "  </tbody>\n",
       "</table>\n",
       "</div>"
      ],
      "text/plain": [
       "        id  season         city        date team1 team2 toss_winner  \\\n",
       "0  1216492    2020    Abu Dhabi  09/19/2020    MI   CSK         CSK   \n",
       "1  1216493    2020  Dubai (DSC)  09/20/2020    DC  KXIP        KXIP   \n",
       "2  1216534    2020  Dubai (DSC)  09/21/2020   SRH   RCB         SRH   \n",
       "3  1216496    2020      Sharjah  09/22/2020    RR   CSK         CSK   \n",
       "4  1216508    2020    Abu Dhabi  09/23/2020   KKR    MI         KKR   \n",
       "\n",
       "  toss_decision  result  dl_applied winner  win_by_runs  win_by_wickets  \\\n",
       "0         field  normal           0    CSK            0               5   \n",
       "1         field     tie           0     DC            0               0   \n",
       "2         field  normal           0    RCB           10               0   \n",
       "3         field  normal           0     RR           16               0   \n",
       "4         field  normal           0     MI           49               0   \n",
       "\n",
       "  player_of_match                                venue  \\\n",
       "0       AT Rayudu      Sheikh Zayed Stadium, Abu Dhabi   \n",
       "1      MP Stoinis  Dubai International Cricket Stadium   \n",
       "2       YS Chahal  Dubai International Cricket Stadium   \n",
       "3       SV Samson              Sharjah Cricket Stadium   \n",
       "4       RG Sharma      Sheikh Zayed Stadium, Abu Dhabi   \n",
       "\n",
       "                   umpire1          umpire2                umpire3  \n",
       "0           Chris Gaffaney  Virender Sharma          Sundaram Ravi  \n",
       "1           Anil Chaudhary      Nitin Menon           Paul Reiffel  \n",
       "2            Anil Dandekar      Nitin Menon         Anil Chaudhary  \n",
       "3  Chettithody Shamshuddin  Vineet Kulkarni  KN Ananthapadmanabhan  \n",
       "4           Chris Gaffaney    Sundaram Ravi        Virender Sharma  "
      ]
     },
     "execution_count": 19,
     "metadata": {},
     "output_type": "execute_result"
    }
   ],
   "source": [
    "#import the data\n",
    "match=pd.read_csv('D:/college/widhya/ipl data/matches IPL 2020.csv')\n",
    "#DD=Dc\n",
    "match=match.replace(to_replace='Delhi Daredevils',value='Delhi Capitals')\n",
    "match.info()\n",
    "match.head()"
   ]
  },
  {
   "cell_type": "code",
   "execution_count": 104,
   "metadata": {},
   "outputs": [
    {
     "data": {
      "text/plain": [
       "TA Boult         2\n",
       "Q de Kock        2\n",
       "Anrich Nortje    2\n",
       "AS Yadav         2\n",
       "Ishan Kishan     1\n",
       "KA Pollard       1\n",
       "S Dhawan         1\n",
       "RG Sharma        1\n",
       "AR  Patel        1\n",
       "SS Iyer          1\n",
       "MP Stoinis       1\n",
       "P Shaw           1\n",
       "R Ashwin         1\n",
       "Name: player_of_match, dtype: int64"
      ]
     },
     "execution_count": 104,
     "metadata": {},
     "output_type": "execute_result"
    }
   ],
   "source": [
    "#player of the match when team winning\n",
    "mom=match[((match['winner']=='MI')|(match['winner']=='DC'))]\n",
    "(mom['player_of_match'].value_counts())"
   ]
  },
  {
   "cell_type": "code",
   "execution_count": 105,
   "metadata": {},
   "outputs": [
    {
     "data": {
      "text/plain": [
       "24"
      ]
     },
     "execution_count": 105,
     "metadata": {},
     "output_type": "execute_result"
    }
   ],
   "source": [
    "match['city'].value_counts()\n",
    "dubai=match[match['city']=='Dubai (DSC)']\n",
    "dubai.win_by_wickets.count()"
   ]
  },
  {
   "cell_type": "code",
   "execution_count": 106,
   "metadata": {},
   "outputs": [
    {
     "data": {
      "text/html": [
       "<div>\n",
       "<style scoped>\n",
       "    .dataframe tbody tr th:only-of-type {\n",
       "        vertical-align: middle;\n",
       "    }\n",
       "\n",
       "    .dataframe tbody tr th {\n",
       "        vertical-align: top;\n",
       "    }\n",
       "\n",
       "    .dataframe thead th {\n",
       "        text-align: right;\n",
       "    }\n",
       "</style>\n",
       "<table border=\"1\" class=\"dataframe\">\n",
       "  <thead>\n",
       "    <tr style=\"text-align: right;\">\n",
       "      <th></th>\n",
       "      <th>id</th>\n",
       "      <th>season</th>\n",
       "      <th>city</th>\n",
       "      <th>date</th>\n",
       "      <th>team1</th>\n",
       "      <th>team2</th>\n",
       "      <th>toss_winner</th>\n",
       "      <th>toss_decision</th>\n",
       "      <th>result</th>\n",
       "      <th>dl_applied</th>\n",
       "      <th>winner</th>\n",
       "      <th>win_by_runs</th>\n",
       "      <th>win_by_wickets</th>\n",
       "      <th>player_of_match</th>\n",
       "      <th>venue</th>\n",
       "      <th>umpire1</th>\n",
       "      <th>umpire2</th>\n",
       "      <th>umpire3</th>\n",
       "    </tr>\n",
       "  </thead>\n",
       "  <tbody>\n",
       "    <tr>\n",
       "      <th>0</th>\n",
       "      <td>1216492</td>\n",
       "      <td>2020</td>\n",
       "      <td>Abu Dhabi</td>\n",
       "      <td>09/19/2020</td>\n",
       "      <td>MI</td>\n",
       "      <td>CSK</td>\n",
       "      <td>CSK</td>\n",
       "      <td>field</td>\n",
       "      <td>normal</td>\n",
       "      <td>0</td>\n",
       "      <td>CSK</td>\n",
       "      <td>0</td>\n",
       "      <td>5</td>\n",
       "      <td>AT Rayudu</td>\n",
       "      <td>Sheikh Zayed Stadium, Abu Dhabi</td>\n",
       "      <td>Chris Gaffaney</td>\n",
       "      <td>Virender Sharma</td>\n",
       "      <td>Sundaram Ravi</td>\n",
       "    </tr>\n",
       "    <tr>\n",
       "      <th>4</th>\n",
       "      <td>1216508</td>\n",
       "      <td>2020</td>\n",
       "      <td>Abu Dhabi</td>\n",
       "      <td>09/23/2020</td>\n",
       "      <td>KKR</td>\n",
       "      <td>MI</td>\n",
       "      <td>KKR</td>\n",
       "      <td>field</td>\n",
       "      <td>normal</td>\n",
       "      <td>0</td>\n",
       "      <td>MI</td>\n",
       "      <td>49</td>\n",
       "      <td>0</td>\n",
       "      <td>RG Sharma</td>\n",
       "      <td>Sheikh Zayed Stadium, Abu Dhabi</td>\n",
       "      <td>Chris Gaffaney</td>\n",
       "      <td>Sundaram Ravi</td>\n",
       "      <td>Virender Sharma</td>\n",
       "    </tr>\n",
       "    <tr>\n",
       "      <th>9</th>\n",
       "      <td>1216547</td>\n",
       "      <td>2020</td>\n",
       "      <td>Dubai (DSC)</td>\n",
       "      <td>09/28/2020</td>\n",
       "      <td>RCB</td>\n",
       "      <td>MI</td>\n",
       "      <td>MI</td>\n",
       "      <td>field</td>\n",
       "      <td>tie</td>\n",
       "      <td>0</td>\n",
       "      <td>RCB</td>\n",
       "      <td>0</td>\n",
       "      <td>0</td>\n",
       "      <td>AB de Villiers</td>\n",
       "      <td>Dubai International Cricket Stadium</td>\n",
       "      <td>Nitin Menon</td>\n",
       "      <td>Paul Reiffel</td>\n",
       "      <td>Anil Chaudhary</td>\n",
       "    </tr>\n",
       "    <tr>\n",
       "      <th>12</th>\n",
       "      <td>1216503</td>\n",
       "      <td>2020</td>\n",
       "      <td>Abu Dhabi</td>\n",
       "      <td>10-01-20</td>\n",
       "      <td>KXIP</td>\n",
       "      <td>MI</td>\n",
       "      <td>KXIP</td>\n",
       "      <td>field</td>\n",
       "      <td>normal</td>\n",
       "      <td>0</td>\n",
       "      <td>MI</td>\n",
       "      <td>48</td>\n",
       "      <td>0</td>\n",
       "      <td>KA Pollard</td>\n",
       "      <td>Sheikh Zayed Stadium, Abu Dhabi</td>\n",
       "      <td>Virender Sharma</td>\n",
       "      <td>Sundaram Ravi</td>\n",
       "      <td>Ulhas Gandhe</td>\n",
       "    </tr>\n",
       "    <tr>\n",
       "      <th>16</th>\n",
       "      <td>1216538</td>\n",
       "      <td>2020</td>\n",
       "      <td>Sharjah</td>\n",
       "      <td>10-04-20</td>\n",
       "      <td>MI</td>\n",
       "      <td>SRH</td>\n",
       "      <td>MI</td>\n",
       "      <td>bat</td>\n",
       "      <td>normal</td>\n",
       "      <td>0</td>\n",
       "      <td>MI</td>\n",
       "      <td>34</td>\n",
       "      <td>0</td>\n",
       "      <td>TA Boult</td>\n",
       "      <td>Sharjah Cricket Stadium</td>\n",
       "      <td>KN Ananthapadmanabhan</td>\n",
       "      <td>Richard Illingworth</td>\n",
       "      <td>Krishnamachari Srinivasan</td>\n",
       "    </tr>\n",
       "    <tr>\n",
       "      <th>19</th>\n",
       "      <td>1216511</td>\n",
       "      <td>2020</td>\n",
       "      <td>Abu Dhabi</td>\n",
       "      <td>10-06-20</td>\n",
       "      <td>MI</td>\n",
       "      <td>RR</td>\n",
       "      <td>MI</td>\n",
       "      <td>bat</td>\n",
       "      <td>normal</td>\n",
       "      <td>0</td>\n",
       "      <td>MI</td>\n",
       "      <td>57</td>\n",
       "      <td>0</td>\n",
       "      <td>AS Yadav</td>\n",
       "      <td>Sheikh Zayed Stadium, Abu Dhabi</td>\n",
       "      <td>Virender Sharma</td>\n",
       "      <td>Sundaram Ravi</td>\n",
       "      <td>Chris Gaffaney</td>\n",
       "    </tr>\n",
       "    <tr>\n",
       "      <th>26</th>\n",
       "      <td>1216529</td>\n",
       "      <td>2020</td>\n",
       "      <td>Abu Dhabi</td>\n",
       "      <td>10-11-20</td>\n",
       "      <td>MI</td>\n",
       "      <td>DC</td>\n",
       "      <td>DC</td>\n",
       "      <td>bat</td>\n",
       "      <td>normal</td>\n",
       "      <td>0</td>\n",
       "      <td>MI</td>\n",
       "      <td>0</td>\n",
       "      <td>5</td>\n",
       "      <td>Q de Kock</td>\n",
       "      <td>Sheikh Zayed Stadium, Abu Dhabi</td>\n",
       "      <td>Chris Gaffaney</td>\n",
       "      <td>Sundaram Ravi</td>\n",
       "      <td>Virender Sharma</td>\n",
       "    </tr>\n",
       "    <tr>\n",
       "      <th>31</th>\n",
       "      <td>1216526</td>\n",
       "      <td>2020</td>\n",
       "      <td>Abu Dhabi</td>\n",
       "      <td>10-16-2020</td>\n",
       "      <td>MI</td>\n",
       "      <td>KKR</td>\n",
       "      <td>KKR</td>\n",
       "      <td>bat</td>\n",
       "      <td>normal</td>\n",
       "      <td>0</td>\n",
       "      <td>MI</td>\n",
       "      <td>0</td>\n",
       "      <td>8</td>\n",
       "      <td>Q de Kock</td>\n",
       "      <td>Sheikh Zayed Stadium, Abu Dhabi</td>\n",
       "      <td>Chris Gaffaney</td>\n",
       "      <td>Virender Sharma</td>\n",
       "      <td>Sundaram Ravi</td>\n",
       "    </tr>\n",
       "    <tr>\n",
       "      <th>35</th>\n",
       "      <td>1216517</td>\n",
       "      <td>2020</td>\n",
       "      <td>Dubai (DSC)</td>\n",
       "      <td>10-18-2020</td>\n",
       "      <td>MI</td>\n",
       "      <td>KXIP</td>\n",
       "      <td>MI</td>\n",
       "      <td>bat</td>\n",
       "      <td>tie</td>\n",
       "      <td>0</td>\n",
       "      <td>KXIP</td>\n",
       "      <td>0</td>\n",
       "      <td>0</td>\n",
       "      <td>KL Rahul</td>\n",
       "      <td>Dubai International Cricket Stadium</td>\n",
       "      <td>Nitin Menon</td>\n",
       "      <td>Paul Reiffel</td>\n",
       "      <td>Anil Chaudhary</td>\n",
       "    </tr>\n",
       "    <tr>\n",
       "      <th>40</th>\n",
       "      <td>1216521</td>\n",
       "      <td>2020</td>\n",
       "      <td>Sharjah</td>\n",
       "      <td>10-23-2020</td>\n",
       "      <td>CSK</td>\n",
       "      <td>MI</td>\n",
       "      <td>MI</td>\n",
       "      <td>field</td>\n",
       "      <td>normal</td>\n",
       "      <td>0</td>\n",
       "      <td>MI</td>\n",
       "      <td>0</td>\n",
       "      <td>10</td>\n",
       "      <td>TA Boult</td>\n",
       "      <td>Sharjah Cricket Stadium</td>\n",
       "      <td>Chettithody Shamshuddin</td>\n",
       "      <td>Vineet Kulkarni</td>\n",
       "      <td>Richard Illingworth</td>\n",
       "    </tr>\n",
       "    <tr>\n",
       "      <th>44</th>\n",
       "      <td>1216541</td>\n",
       "      <td>2020</td>\n",
       "      <td>Abu Dhabi</td>\n",
       "      <td>10-25-2020</td>\n",
       "      <td>RR</td>\n",
       "      <td>MI</td>\n",
       "      <td>MI</td>\n",
       "      <td>bat</td>\n",
       "      <td>normal</td>\n",
       "      <td>0</td>\n",
       "      <td>RR</td>\n",
       "      <td>0</td>\n",
       "      <td>8</td>\n",
       "      <td>BA Stokes</td>\n",
       "      <td>Sheikh Zayed Stadium, Abu Dhabi</td>\n",
       "      <td>Ulhas Gandhe</td>\n",
       "      <td>Virender Sharma</td>\n",
       "      <td>Sundaram Ravi</td>\n",
       "    </tr>\n",
       "    <tr>\n",
       "      <th>47</th>\n",
       "      <td>1216499</td>\n",
       "      <td>2020</td>\n",
       "      <td>Abu Dhabi</td>\n",
       "      <td>10-28-2020</td>\n",
       "      <td>MI</td>\n",
       "      <td>RCB</td>\n",
       "      <td>MI</td>\n",
       "      <td>field</td>\n",
       "      <td>normal</td>\n",
       "      <td>0</td>\n",
       "      <td>MI</td>\n",
       "      <td>0</td>\n",
       "      <td>5</td>\n",
       "      <td>AS Yadav</td>\n",
       "      <td>Sheikh Zayed Stadium, Abu Dhabi</td>\n",
       "      <td>Ulhas Gandhe</td>\n",
       "      <td>Chris Gaffaney</td>\n",
       "      <td>Sundaram Ravi</td>\n",
       "    </tr>\n",
       "    <tr>\n",
       "      <th>50</th>\n",
       "      <td>1216535</td>\n",
       "      <td>2020</td>\n",
       "      <td>Dubai (DSC)</td>\n",
       "      <td>10-31-2020</td>\n",
       "      <td>DC</td>\n",
       "      <td>MI</td>\n",
       "      <td>MI</td>\n",
       "      <td>field</td>\n",
       "      <td>normal</td>\n",
       "      <td>0</td>\n",
       "      <td>MI</td>\n",
       "      <td>0</td>\n",
       "      <td>9</td>\n",
       "      <td>Ishan Kishan</td>\n",
       "      <td>Dubai International Cricket Stadium</td>\n",
       "      <td>Yeshwant Barde</td>\n",
       "      <td>Paul Reiffel</td>\n",
       "      <td>Anil Chaudhary</td>\n",
       "    </tr>\n",
       "    <tr>\n",
       "      <th>55</th>\n",
       "      <td>1216495</td>\n",
       "      <td>2020</td>\n",
       "      <td>Sharjah</td>\n",
       "      <td>11-03-20</td>\n",
       "      <td>SRH</td>\n",
       "      <td>MI</td>\n",
       "      <td>SRH</td>\n",
       "      <td>field</td>\n",
       "      <td>normal</td>\n",
       "      <td>0</td>\n",
       "      <td>SRH</td>\n",
       "      <td>0</td>\n",
       "      <td>10</td>\n",
       "      <td>S Nadeem</td>\n",
       "      <td>Sharjah Cricket Stadium</td>\n",
       "      <td>Chettithody Shamshuddin</td>\n",
       "      <td>Richard Illingworth</td>\n",
       "      <td>KN Ananthapadmanabhan</td>\n",
       "    </tr>\n",
       "  </tbody>\n",
       "</table>\n",
       "</div>"
      ],
      "text/plain": [
       "         id  season         city        date team1 team2 toss_winner  \\\n",
       "0   1216492    2020    Abu Dhabi  09/19/2020    MI   CSK         CSK   \n",
       "4   1216508    2020    Abu Dhabi  09/23/2020   KKR    MI         KKR   \n",
       "9   1216547    2020  Dubai (DSC)  09/28/2020   RCB    MI          MI   \n",
       "12  1216503    2020    Abu Dhabi    10-01-20  KXIP    MI        KXIP   \n",
       "16  1216538    2020      Sharjah    10-04-20    MI   SRH          MI   \n",
       "19  1216511    2020    Abu Dhabi    10-06-20    MI    RR          MI   \n",
       "26  1216529    2020    Abu Dhabi    10-11-20    MI    DC          DC   \n",
       "31  1216526    2020    Abu Dhabi  10-16-2020    MI   KKR         KKR   \n",
       "35  1216517    2020  Dubai (DSC)  10-18-2020    MI  KXIP          MI   \n",
       "40  1216521    2020      Sharjah  10-23-2020   CSK    MI          MI   \n",
       "44  1216541    2020    Abu Dhabi  10-25-2020    RR    MI          MI   \n",
       "47  1216499    2020    Abu Dhabi  10-28-2020    MI   RCB          MI   \n",
       "50  1216535    2020  Dubai (DSC)  10-31-2020    DC    MI          MI   \n",
       "55  1216495    2020      Sharjah    11-03-20   SRH    MI         SRH   \n",
       "\n",
       "   toss_decision  result  dl_applied winner  win_by_runs  win_by_wickets  \\\n",
       "0          field  normal           0    CSK            0               5   \n",
       "4          field  normal           0     MI           49               0   \n",
       "9          field     tie           0    RCB            0               0   \n",
       "12         field  normal           0     MI           48               0   \n",
       "16           bat  normal           0     MI           34               0   \n",
       "19           bat  normal           0     MI           57               0   \n",
       "26           bat  normal           0     MI            0               5   \n",
       "31           bat  normal           0     MI            0               8   \n",
       "35           bat     tie           0   KXIP            0               0   \n",
       "40         field  normal           0     MI            0              10   \n",
       "44           bat  normal           0     RR            0               8   \n",
       "47         field  normal           0     MI            0               5   \n",
       "50         field  normal           0     MI            0               9   \n",
       "55         field  normal           0    SRH            0              10   \n",
       "\n",
       "   player_of_match                                venue  \\\n",
       "0        AT Rayudu      Sheikh Zayed Stadium, Abu Dhabi   \n",
       "4        RG Sharma      Sheikh Zayed Stadium, Abu Dhabi   \n",
       "9   AB de Villiers  Dubai International Cricket Stadium   \n",
       "12      KA Pollard      Sheikh Zayed Stadium, Abu Dhabi   \n",
       "16        TA Boult              Sharjah Cricket Stadium   \n",
       "19        AS Yadav      Sheikh Zayed Stadium, Abu Dhabi   \n",
       "26       Q de Kock      Sheikh Zayed Stadium, Abu Dhabi   \n",
       "31       Q de Kock      Sheikh Zayed Stadium, Abu Dhabi   \n",
       "35        KL Rahul  Dubai International Cricket Stadium   \n",
       "40        TA Boult              Sharjah Cricket Stadium   \n",
       "44       BA Stokes      Sheikh Zayed Stadium, Abu Dhabi   \n",
       "47        AS Yadav      Sheikh Zayed Stadium, Abu Dhabi   \n",
       "50    Ishan Kishan  Dubai International Cricket Stadium   \n",
       "55        S Nadeem              Sharjah Cricket Stadium   \n",
       "\n",
       "                    umpire1              umpire2                    umpire3  \n",
       "0            Chris Gaffaney      Virender Sharma              Sundaram Ravi  \n",
       "4            Chris Gaffaney        Sundaram Ravi            Virender Sharma  \n",
       "9               Nitin Menon         Paul Reiffel             Anil Chaudhary  \n",
       "12          Virender Sharma        Sundaram Ravi               Ulhas Gandhe  \n",
       "16    KN Ananthapadmanabhan  Richard Illingworth  Krishnamachari Srinivasan  \n",
       "19          Virender Sharma        Sundaram Ravi             Chris Gaffaney  \n",
       "26           Chris Gaffaney        Sundaram Ravi            Virender Sharma  \n",
       "31           Chris Gaffaney      Virender Sharma              Sundaram Ravi  \n",
       "35              Nitin Menon         Paul Reiffel             Anil Chaudhary  \n",
       "40  Chettithody Shamshuddin      Vineet Kulkarni        Richard Illingworth  \n",
       "44             Ulhas Gandhe      Virender Sharma              Sundaram Ravi  \n",
       "47             Ulhas Gandhe       Chris Gaffaney              Sundaram Ravi  \n",
       "50           Yeshwant Barde         Paul Reiffel             Anil Chaudhary  \n",
       "55  Chettithody Shamshuddin  Richard Illingworth      KN Ananthapadmanabhan  "
      ]
     },
     "execution_count": 106,
     "metadata": {},
     "output_type": "execute_result"
    }
   ],
   "source": [
    "match['city'].value_counts()\n",
    "mi=match[((match['team1']=='MI')|(match['team2']=='MI'))]\n",
    "#dubai=mi[mi['city']=='Dubai (DSC)']\n",
    "#dubai\n",
    "mi"
   ]
  },
  {
   "cell_type": "code",
   "execution_count": 107,
   "metadata": {},
   "outputs": [
    {
     "data": {
      "text/html": [
       "<div>\n",
       "<style scoped>\n",
       "    .dataframe tbody tr th:only-of-type {\n",
       "        vertical-align: middle;\n",
       "    }\n",
       "\n",
       "    .dataframe tbody tr th {\n",
       "        vertical-align: top;\n",
       "    }\n",
       "\n",
       "    .dataframe thead th {\n",
       "        text-align: right;\n",
       "    }\n",
       "</style>\n",
       "<table border=\"1\" class=\"dataframe\">\n",
       "  <thead>\n",
       "    <tr style=\"text-align: right;\">\n",
       "      <th></th>\n",
       "      <th>id</th>\n",
       "      <th>season</th>\n",
       "      <th>city</th>\n",
       "      <th>date</th>\n",
       "      <th>team1</th>\n",
       "      <th>team2</th>\n",
       "      <th>toss_winner</th>\n",
       "      <th>toss_decision</th>\n",
       "      <th>result</th>\n",
       "      <th>dl_applied</th>\n",
       "      <th>winner</th>\n",
       "      <th>win_by_runs</th>\n",
       "      <th>win_by_wickets</th>\n",
       "      <th>player_of_match</th>\n",
       "      <th>venue</th>\n",
       "      <th>umpire1</th>\n",
       "      <th>umpire2</th>\n",
       "      <th>umpire3</th>\n",
       "    </tr>\n",
       "  </thead>\n",
       "  <tbody>\n",
       "    <tr>\n",
       "      <th>1</th>\n",
       "      <td>1216493</td>\n",
       "      <td>2020</td>\n",
       "      <td>Dubai (DSC)</td>\n",
       "      <td>09/20/2020</td>\n",
       "      <td>DC</td>\n",
       "      <td>KXIP</td>\n",
       "      <td>KXIP</td>\n",
       "      <td>field</td>\n",
       "      <td>tie</td>\n",
       "      <td>0</td>\n",
       "      <td>DC</td>\n",
       "      <td>0</td>\n",
       "      <td>0</td>\n",
       "      <td>MP Stoinis</td>\n",
       "      <td>Dubai International Cricket Stadium</td>\n",
       "      <td>Anil Chaudhary</td>\n",
       "      <td>Nitin Menon</td>\n",
       "      <td>Paul Reiffel</td>\n",
       "    </tr>\n",
       "    <tr>\n",
       "      <th>6</th>\n",
       "      <td>1216539</td>\n",
       "      <td>2020</td>\n",
       "      <td>Dubai (DSC)</td>\n",
       "      <td>09/25/2020</td>\n",
       "      <td>CSK</td>\n",
       "      <td>DC</td>\n",
       "      <td>CSK</td>\n",
       "      <td>field</td>\n",
       "      <td>normal</td>\n",
       "      <td>0</td>\n",
       "      <td>DC</td>\n",
       "      <td>44</td>\n",
       "      <td>0</td>\n",
       "      <td>P Shaw</td>\n",
       "      <td>Dubai International Cricket Stadium</td>\n",
       "      <td>KN Ananthapadmanabhan</td>\n",
       "      <td>Richard Illingworth</td>\n",
       "      <td>Krishnamachari Srinivasan</td>\n",
       "    </tr>\n",
       "    <tr>\n",
       "      <th>10</th>\n",
       "      <td>1216532</td>\n",
       "      <td>2020</td>\n",
       "      <td>Abu Dhabi</td>\n",
       "      <td>09/29/2020</td>\n",
       "      <td>DC</td>\n",
       "      <td>SRH</td>\n",
       "      <td>DC</td>\n",
       "      <td>field</td>\n",
       "      <td>normal</td>\n",
       "      <td>0</td>\n",
       "      <td>SRH</td>\n",
       "      <td>15</td>\n",
       "      <td>0</td>\n",
       "      <td>Rashid Khan</td>\n",
       "      <td>Sheikh Zayed Stadium, Abu Dhabi</td>\n",
       "      <td>Virender Sharma</td>\n",
       "      <td>Sundaram Ravi</td>\n",
       "      <td>Chris Gaffaney</td>\n",
       "    </tr>\n",
       "    <tr>\n",
       "      <th>15</th>\n",
       "      <td>1216515</td>\n",
       "      <td>2020</td>\n",
       "      <td>Sharjah</td>\n",
       "      <td>10-03-20</td>\n",
       "      <td>DC</td>\n",
       "      <td>KKR</td>\n",
       "      <td>KKR</td>\n",
       "      <td>field</td>\n",
       "      <td>normal</td>\n",
       "      <td>0</td>\n",
       "      <td>DC</td>\n",
       "      <td>18</td>\n",
       "      <td>0</td>\n",
       "      <td>SS Iyer</td>\n",
       "      <td>Sharjah Cricket Stadium</td>\n",
       "      <td>Vineet Kulkarni</td>\n",
       "      <td>Richard Illingworth</td>\n",
       "      <td>KN Ananthapadmanabhan</td>\n",
       "    </tr>\n",
       "    <tr>\n",
       "      <th>18</th>\n",
       "      <td>1216519</td>\n",
       "      <td>2020</td>\n",
       "      <td>Dubai (DSC)</td>\n",
       "      <td>10-05-20</td>\n",
       "      <td>RCB</td>\n",
       "      <td>DC</td>\n",
       "      <td>RCB</td>\n",
       "      <td>field</td>\n",
       "      <td>normal</td>\n",
       "      <td>0</td>\n",
       "      <td>DC</td>\n",
       "      <td>59</td>\n",
       "      <td>0</td>\n",
       "      <td>AR  Patel</td>\n",
       "      <td>Dubai International Cricket Stadium</td>\n",
       "      <td>Nitin Menon</td>\n",
       "      <td>Yeshwant Barde</td>\n",
       "      <td>Paul Reiffel</td>\n",
       "    </tr>\n",
       "    <tr>\n",
       "      <th>22</th>\n",
       "      <td>1216500</td>\n",
       "      <td>2020</td>\n",
       "      <td>Sharjah</td>\n",
       "      <td>10-09-20</td>\n",
       "      <td>RR</td>\n",
       "      <td>DC</td>\n",
       "      <td>RR</td>\n",
       "      <td>field</td>\n",
       "      <td>normal</td>\n",
       "      <td>0</td>\n",
       "      <td>DC</td>\n",
       "      <td>46</td>\n",
       "      <td>0</td>\n",
       "      <td>R Ashwin</td>\n",
       "      <td>Sharjah Cricket Stadium</td>\n",
       "      <td>KN Ananthapadmanabhan</td>\n",
       "      <td>Chettithody Shamshuddin</td>\n",
       "      <td>Vineet Kulkarni</td>\n",
       "    </tr>\n",
       "    <tr>\n",
       "      <th>26</th>\n",
       "      <td>1216529</td>\n",
       "      <td>2020</td>\n",
       "      <td>Abu Dhabi</td>\n",
       "      <td>10-11-20</td>\n",
       "      <td>MI</td>\n",
       "      <td>DC</td>\n",
       "      <td>DC</td>\n",
       "      <td>bat</td>\n",
       "      <td>normal</td>\n",
       "      <td>0</td>\n",
       "      <td>MI</td>\n",
       "      <td>0</td>\n",
       "      <td>5</td>\n",
       "      <td>Q de Kock</td>\n",
       "      <td>Sheikh Zayed Stadium, Abu Dhabi</td>\n",
       "      <td>Chris Gaffaney</td>\n",
       "      <td>Sundaram Ravi</td>\n",
       "      <td>Virender Sharma</td>\n",
       "    </tr>\n",
       "    <tr>\n",
       "      <th>29</th>\n",
       "      <td>1216543</td>\n",
       "      <td>2020</td>\n",
       "      <td>Dubai (DSC)</td>\n",
       "      <td>10-14-2020</td>\n",
       "      <td>DC</td>\n",
       "      <td>RR</td>\n",
       "      <td>DC</td>\n",
       "      <td>bat</td>\n",
       "      <td>normal</td>\n",
       "      <td>0</td>\n",
       "      <td>DC</td>\n",
       "      <td>13</td>\n",
       "      <td>0</td>\n",
       "      <td>Anrich Nortje</td>\n",
       "      <td>Dubai International Cricket Stadium</td>\n",
       "      <td>Anil Chaudhary</td>\n",
       "      <td>Nitin Menon</td>\n",
       "      <td>Anil Dandekar</td>\n",
       "    </tr>\n",
       "    <tr>\n",
       "      <th>33</th>\n",
       "      <td>1216509</td>\n",
       "      <td>2020</td>\n",
       "      <td>Sharjah</td>\n",
       "      <td>10-17-2020</td>\n",
       "      <td>DC</td>\n",
       "      <td>CSK</td>\n",
       "      <td>CSK</td>\n",
       "      <td>bat</td>\n",
       "      <td>normal</td>\n",
       "      <td>0</td>\n",
       "      <td>DC</td>\n",
       "      <td>0</td>\n",
       "      <td>5</td>\n",
       "      <td>S Dhawan</td>\n",
       "      <td>Sharjah Cricket Stadium</td>\n",
       "      <td>KN Ananthapadmanabhan</td>\n",
       "      <td>Richard Illingworth</td>\n",
       "      <td>Chettithody Shamshuddin</td>\n",
       "    </tr>\n",
       "    <tr>\n",
       "      <th>37</th>\n",
       "      <td>1216546</td>\n",
       "      <td>2020</td>\n",
       "      <td>Dubai (DSC)</td>\n",
       "      <td>10-20-2020</td>\n",
       "      <td>KXIP</td>\n",
       "      <td>DC</td>\n",
       "      <td>DC</td>\n",
       "      <td>bat</td>\n",
       "      <td>normal</td>\n",
       "      <td>0</td>\n",
       "      <td>KXIP</td>\n",
       "      <td>0</td>\n",
       "      <td>5</td>\n",
       "      <td>S Dhawan</td>\n",
       "      <td>Dubai International Cricket Stadium</td>\n",
       "      <td>Chettithody Shamshuddin</td>\n",
       "      <td>Richard Illingworth</td>\n",
       "      <td>KN Ananthapadmanabhan</td>\n",
       "    </tr>\n",
       "    <tr>\n",
       "      <th>41</th>\n",
       "      <td>1216497</td>\n",
       "      <td>2020</td>\n",
       "      <td>Abu Dhabi</td>\n",
       "      <td>10-24-2020</td>\n",
       "      <td>KKR</td>\n",
       "      <td>DC</td>\n",
       "      <td>DC</td>\n",
       "      <td>field</td>\n",
       "      <td>normal</td>\n",
       "      <td>0</td>\n",
       "      <td>KKR</td>\n",
       "      <td>59</td>\n",
       "      <td>0</td>\n",
       "      <td>CV Varun</td>\n",
       "      <td>Sheikh Zayed Stadium, Abu Dhabi</td>\n",
       "      <td>Chris Gaffaney</td>\n",
       "      <td>Pashchim Pathak</td>\n",
       "      <td>Sundaram Ravi</td>\n",
       "    </tr>\n",
       "    <tr>\n",
       "      <th>46</th>\n",
       "      <td>1216524</td>\n",
       "      <td>2020</td>\n",
       "      <td>Dubai (DSC)</td>\n",
       "      <td>10-27-2020</td>\n",
       "      <td>SRH</td>\n",
       "      <td>DC</td>\n",
       "      <td>DC</td>\n",
       "      <td>field</td>\n",
       "      <td>normal</td>\n",
       "      <td>0</td>\n",
       "      <td>SRH</td>\n",
       "      <td>88</td>\n",
       "      <td>0</td>\n",
       "      <td>WP Saha</td>\n",
       "      <td>Dubai International Cricket Stadium</td>\n",
       "      <td>Anil Chaudhary</td>\n",
       "      <td>Nitin Menon</td>\n",
       "      <td>Paul Reiffel</td>\n",
       "    </tr>\n",
       "    <tr>\n",
       "      <th>50</th>\n",
       "      <td>1216535</td>\n",
       "      <td>2020</td>\n",
       "      <td>Dubai (DSC)</td>\n",
       "      <td>10-31-2020</td>\n",
       "      <td>DC</td>\n",
       "      <td>MI</td>\n",
       "      <td>MI</td>\n",
       "      <td>field</td>\n",
       "      <td>normal</td>\n",
       "      <td>0</td>\n",
       "      <td>MI</td>\n",
       "      <td>0</td>\n",
       "      <td>9</td>\n",
       "      <td>Ishan Kishan</td>\n",
       "      <td>Dubai International Cricket Stadium</td>\n",
       "      <td>Yeshwant Barde</td>\n",
       "      <td>Paul Reiffel</td>\n",
       "      <td>Anil Chaudhary</td>\n",
       "    </tr>\n",
       "    <tr>\n",
       "      <th>54</th>\n",
       "      <td>1216505</td>\n",
       "      <td>2020</td>\n",
       "      <td>Abu Dhabi</td>\n",
       "      <td>11-02-20</td>\n",
       "      <td>DC</td>\n",
       "      <td>RCB</td>\n",
       "      <td>DC</td>\n",
       "      <td>field</td>\n",
       "      <td>normal</td>\n",
       "      <td>0</td>\n",
       "      <td>DC</td>\n",
       "      <td>0</td>\n",
       "      <td>6</td>\n",
       "      <td>Anrich Nortje</td>\n",
       "      <td>Sheikh Zayed Stadium, Abu Dhabi</td>\n",
       "      <td>Chris Gaffaney</td>\n",
       "      <td>Sundaram Ravi</td>\n",
       "      <td>Virender Sharma</td>\n",
       "    </tr>\n",
       "  </tbody>\n",
       "</table>\n",
       "</div>"
      ],
      "text/plain": [
       "         id  season         city        date team1 team2 toss_winner  \\\n",
       "1   1216493    2020  Dubai (DSC)  09/20/2020    DC  KXIP        KXIP   \n",
       "6   1216539    2020  Dubai (DSC)  09/25/2020   CSK    DC         CSK   \n",
       "10  1216532    2020    Abu Dhabi  09/29/2020    DC   SRH          DC   \n",
       "15  1216515    2020      Sharjah    10-03-20    DC   KKR         KKR   \n",
       "18  1216519    2020  Dubai (DSC)    10-05-20   RCB    DC         RCB   \n",
       "22  1216500    2020      Sharjah    10-09-20    RR    DC          RR   \n",
       "26  1216529    2020    Abu Dhabi    10-11-20    MI    DC          DC   \n",
       "29  1216543    2020  Dubai (DSC)  10-14-2020    DC    RR          DC   \n",
       "33  1216509    2020      Sharjah  10-17-2020    DC   CSK         CSK   \n",
       "37  1216546    2020  Dubai (DSC)  10-20-2020  KXIP    DC          DC   \n",
       "41  1216497    2020    Abu Dhabi  10-24-2020   KKR    DC          DC   \n",
       "46  1216524    2020  Dubai (DSC)  10-27-2020   SRH    DC          DC   \n",
       "50  1216535    2020  Dubai (DSC)  10-31-2020    DC    MI          MI   \n",
       "54  1216505    2020    Abu Dhabi    11-02-20    DC   RCB          DC   \n",
       "\n",
       "   toss_decision  result  dl_applied winner  win_by_runs  win_by_wickets  \\\n",
       "1          field     tie           0     DC            0               0   \n",
       "6          field  normal           0     DC           44               0   \n",
       "10         field  normal           0    SRH           15               0   \n",
       "15         field  normal           0     DC           18               0   \n",
       "18         field  normal           0     DC           59               0   \n",
       "22         field  normal           0     DC           46               0   \n",
       "26           bat  normal           0     MI            0               5   \n",
       "29           bat  normal           0     DC           13               0   \n",
       "33           bat  normal           0     DC            0               5   \n",
       "37           bat  normal           0   KXIP            0               5   \n",
       "41         field  normal           0    KKR           59               0   \n",
       "46         field  normal           0    SRH           88               0   \n",
       "50         field  normal           0     MI            0               9   \n",
       "54         field  normal           0     DC            0               6   \n",
       "\n",
       "   player_of_match                                venue  \\\n",
       "1       MP Stoinis  Dubai International Cricket Stadium   \n",
       "6           P Shaw  Dubai International Cricket Stadium   \n",
       "10     Rashid Khan      Sheikh Zayed Stadium, Abu Dhabi   \n",
       "15         SS Iyer              Sharjah Cricket Stadium   \n",
       "18       AR  Patel  Dubai International Cricket Stadium   \n",
       "22        R Ashwin              Sharjah Cricket Stadium   \n",
       "26       Q de Kock      Sheikh Zayed Stadium, Abu Dhabi   \n",
       "29   Anrich Nortje  Dubai International Cricket Stadium   \n",
       "33        S Dhawan              Sharjah Cricket Stadium   \n",
       "37        S Dhawan  Dubai International Cricket Stadium   \n",
       "41        CV Varun      Sheikh Zayed Stadium, Abu Dhabi   \n",
       "46         WP Saha  Dubai International Cricket Stadium   \n",
       "50    Ishan Kishan  Dubai International Cricket Stadium   \n",
       "54   Anrich Nortje      Sheikh Zayed Stadium, Abu Dhabi   \n",
       "\n",
       "                    umpire1                  umpire2  \\\n",
       "1            Anil Chaudhary              Nitin Menon   \n",
       "6     KN Ananthapadmanabhan      Richard Illingworth   \n",
       "10          Virender Sharma            Sundaram Ravi   \n",
       "15          Vineet Kulkarni      Richard Illingworth   \n",
       "18              Nitin Menon           Yeshwant Barde   \n",
       "22    KN Ananthapadmanabhan  Chettithody Shamshuddin   \n",
       "26           Chris Gaffaney            Sundaram Ravi   \n",
       "29           Anil Chaudhary              Nitin Menon   \n",
       "33    KN Ananthapadmanabhan      Richard Illingworth   \n",
       "37  Chettithody Shamshuddin      Richard Illingworth   \n",
       "41           Chris Gaffaney          Pashchim Pathak   \n",
       "46           Anil Chaudhary              Nitin Menon   \n",
       "50           Yeshwant Barde             Paul Reiffel   \n",
       "54           Chris Gaffaney            Sundaram Ravi   \n",
       "\n",
       "                      umpire3  \n",
       "1                Paul Reiffel  \n",
       "6   Krishnamachari Srinivasan  \n",
       "10             Chris Gaffaney  \n",
       "15      KN Ananthapadmanabhan  \n",
       "18               Paul Reiffel  \n",
       "22            Vineet Kulkarni  \n",
       "26            Virender Sharma  \n",
       "29              Anil Dandekar  \n",
       "33    Chettithody Shamshuddin  \n",
       "37      KN Ananthapadmanabhan  \n",
       "41              Sundaram Ravi  \n",
       "46               Paul Reiffel  \n",
       "50             Anil Chaudhary  \n",
       "54            Virender Sharma  "
      ]
     },
     "execution_count": 107,
     "metadata": {},
     "output_type": "execute_result"
    }
   ],
   "source": [
    "#dubai ground dc win by run or wickets?\n",
    "match['city'].value_counts()\n",
    "dc=match[((match['team1']=='DC')|(match['team2']=='DC'))]\n",
    "#dubai=dc[dc['city']=='Dubai (DSC)']\n",
    "#dubai\n",
    "dc"
   ]
  },
  {
   "cell_type": "markdown",
   "metadata": {},
   "source": [
    "mi"
   ]
  },
  {
   "cell_type": "code",
   "execution_count": 108,
   "metadata": {},
   "outputs": [
    {
     "data": {
      "text/html": [
       "<div>\n",
       "<style scoped>\n",
       "    .dataframe tbody tr th:only-of-type {\n",
       "        vertical-align: middle;\n",
       "    }\n",
       "\n",
       "    .dataframe tbody tr th {\n",
       "        vertical-align: top;\n",
       "    }\n",
       "\n",
       "    .dataframe thead th {\n",
       "        text-align: right;\n",
       "    }\n",
       "</style>\n",
       "<table border=\"1\" class=\"dataframe\">\n",
       "  <thead>\n",
       "    <tr style=\"text-align: right;\">\n",
       "      <th></th>\n",
       "      <th>id</th>\n",
       "      <th>season</th>\n",
       "      <th>city</th>\n",
       "      <th>date</th>\n",
       "      <th>team1</th>\n",
       "      <th>team2</th>\n",
       "      <th>toss_winner</th>\n",
       "      <th>toss_decision</th>\n",
       "      <th>result</th>\n",
       "      <th>dl_applied</th>\n",
       "      <th>winner</th>\n",
       "      <th>win_by_runs</th>\n",
       "      <th>win_by_wickets</th>\n",
       "      <th>player_of_match</th>\n",
       "      <th>venue</th>\n",
       "      <th>umpire1</th>\n",
       "      <th>umpire2</th>\n",
       "      <th>umpire3</th>\n",
       "    </tr>\n",
       "  </thead>\n",
       "  <tbody>\n",
       "    <tr>\n",
       "      <th>1</th>\n",
       "      <td>1216493</td>\n",
       "      <td>2020</td>\n",
       "      <td>Dubai (DSC)</td>\n",
       "      <td>09/20/2020</td>\n",
       "      <td>DC</td>\n",
       "      <td>KXIP</td>\n",
       "      <td>KXIP</td>\n",
       "      <td>field</td>\n",
       "      <td>tie</td>\n",
       "      <td>0</td>\n",
       "      <td>DC</td>\n",
       "      <td>0</td>\n",
       "      <td>0</td>\n",
       "      <td>MP Stoinis</td>\n",
       "      <td>Dubai International Cricket Stadium</td>\n",
       "      <td>Anil Chaudhary</td>\n",
       "      <td>Nitin Menon</td>\n",
       "      <td>Paul Reiffel</td>\n",
       "    </tr>\n",
       "    <tr>\n",
       "      <th>6</th>\n",
       "      <td>1216539</td>\n",
       "      <td>2020</td>\n",
       "      <td>Dubai (DSC)</td>\n",
       "      <td>09/25/2020</td>\n",
       "      <td>CSK</td>\n",
       "      <td>DC</td>\n",
       "      <td>CSK</td>\n",
       "      <td>field</td>\n",
       "      <td>normal</td>\n",
       "      <td>0</td>\n",
       "      <td>DC</td>\n",
       "      <td>44</td>\n",
       "      <td>0</td>\n",
       "      <td>P Shaw</td>\n",
       "      <td>Dubai International Cricket Stadium</td>\n",
       "      <td>KN Ananthapadmanabhan</td>\n",
       "      <td>Richard Illingworth</td>\n",
       "      <td>Krishnamachari Srinivasan</td>\n",
       "    </tr>\n",
       "    <tr>\n",
       "      <th>18</th>\n",
       "      <td>1216519</td>\n",
       "      <td>2020</td>\n",
       "      <td>Dubai (DSC)</td>\n",
       "      <td>10-05-20</td>\n",
       "      <td>RCB</td>\n",
       "      <td>DC</td>\n",
       "      <td>RCB</td>\n",
       "      <td>field</td>\n",
       "      <td>normal</td>\n",
       "      <td>0</td>\n",
       "      <td>DC</td>\n",
       "      <td>59</td>\n",
       "      <td>0</td>\n",
       "      <td>AR  Patel</td>\n",
       "      <td>Dubai International Cricket Stadium</td>\n",
       "      <td>Nitin Menon</td>\n",
       "      <td>Yeshwant Barde</td>\n",
       "      <td>Paul Reiffel</td>\n",
       "    </tr>\n",
       "    <tr>\n",
       "      <th>29</th>\n",
       "      <td>1216543</td>\n",
       "      <td>2020</td>\n",
       "      <td>Dubai (DSC)</td>\n",
       "      <td>10-14-2020</td>\n",
       "      <td>DC</td>\n",
       "      <td>RR</td>\n",
       "      <td>DC</td>\n",
       "      <td>bat</td>\n",
       "      <td>normal</td>\n",
       "      <td>0</td>\n",
       "      <td>DC</td>\n",
       "      <td>13</td>\n",
       "      <td>0</td>\n",
       "      <td>Anrich Nortje</td>\n",
       "      <td>Dubai International Cricket Stadium</td>\n",
       "      <td>Anil Chaudhary</td>\n",
       "      <td>Nitin Menon</td>\n",
       "      <td>Anil Dandekar</td>\n",
       "    </tr>\n",
       "  </tbody>\n",
       "</table>\n",
       "</div>"
      ],
      "text/plain": [
       "         id  season         city        date team1 team2 toss_winner  \\\n",
       "1   1216493    2020  Dubai (DSC)  09/20/2020    DC  KXIP        KXIP   \n",
       "6   1216539    2020  Dubai (DSC)  09/25/2020   CSK    DC         CSK   \n",
       "18  1216519    2020  Dubai (DSC)    10-05-20   RCB    DC         RCB   \n",
       "29  1216543    2020  Dubai (DSC)  10-14-2020    DC    RR          DC   \n",
       "\n",
       "   toss_decision  result  dl_applied winner  win_by_runs  win_by_wickets  \\\n",
       "1          field     tie           0     DC            0               0   \n",
       "6          field  normal           0     DC           44               0   \n",
       "18         field  normal           0     DC           59               0   \n",
       "29           bat  normal           0     DC           13               0   \n",
       "\n",
       "   player_of_match                                venue  \\\n",
       "1       MP Stoinis  Dubai International Cricket Stadium   \n",
       "6           P Shaw  Dubai International Cricket Stadium   \n",
       "18       AR  Patel  Dubai International Cricket Stadium   \n",
       "29   Anrich Nortje  Dubai International Cricket Stadium   \n",
       "\n",
       "                  umpire1              umpire2                    umpire3  \n",
       "1          Anil Chaudhary          Nitin Menon               Paul Reiffel  \n",
       "6   KN Ananthapadmanabhan  Richard Illingworth  Krishnamachari Srinivasan  \n",
       "18            Nitin Menon       Yeshwant Barde               Paul Reiffel  \n",
       "29         Anil Chaudhary          Nitin Menon              Anil Dandekar  "
      ]
     },
     "execution_count": 108,
     "metadata": {},
     "output_type": "execute_result"
    }
   ],
   "source": [
    "#dubai ground dc win by run or wickets?\n",
    "match['city'].value_counts()\n",
    "dubai=match[match['city']=='Dubai (DSC)']\n",
    "dubai[dubai['winner']=='DC']"
   ]
  },
  {
   "cell_type": "code",
   "execution_count": 109,
   "metadata": {},
   "outputs": [
    {
     "data": {
      "text/html": [
       "<div>\n",
       "<style scoped>\n",
       "    .dataframe tbody tr th:only-of-type {\n",
       "        vertical-align: middle;\n",
       "    }\n",
       "\n",
       "    .dataframe tbody tr th {\n",
       "        vertical-align: top;\n",
       "    }\n",
       "\n",
       "    .dataframe thead th {\n",
       "        text-align: right;\n",
       "    }\n",
       "</style>\n",
       "<table border=\"1\" class=\"dataframe\">\n",
       "  <thead>\n",
       "    <tr style=\"text-align: right;\">\n",
       "      <th></th>\n",
       "      <th>id</th>\n",
       "      <th>season</th>\n",
       "      <th>city</th>\n",
       "      <th>date</th>\n",
       "      <th>team1</th>\n",
       "      <th>team2</th>\n",
       "      <th>toss_winner</th>\n",
       "      <th>toss_decision</th>\n",
       "      <th>result</th>\n",
       "      <th>dl_applied</th>\n",
       "      <th>winner</th>\n",
       "      <th>win_by_runs</th>\n",
       "      <th>win_by_wickets</th>\n",
       "      <th>player_of_match</th>\n",
       "      <th>venue</th>\n",
       "      <th>umpire1</th>\n",
       "      <th>umpire2</th>\n",
       "      <th>umpire3</th>\n",
       "    </tr>\n",
       "  </thead>\n",
       "  <tbody>\n",
       "    <tr>\n",
       "      <th>26</th>\n",
       "      <td>1216529</td>\n",
       "      <td>2020</td>\n",
       "      <td>Abu Dhabi</td>\n",
       "      <td>10-11-20</td>\n",
       "      <td>MI</td>\n",
       "      <td>DC</td>\n",
       "      <td>DC</td>\n",
       "      <td>bat</td>\n",
       "      <td>normal</td>\n",
       "      <td>0</td>\n",
       "      <td>MI</td>\n",
       "      <td>0</td>\n",
       "      <td>5</td>\n",
       "      <td>Q de Kock</td>\n",
       "      <td>Sheikh Zayed Stadium, Abu Dhabi</td>\n",
       "      <td>Chris Gaffaney</td>\n",
       "      <td>Sundaram Ravi</td>\n",
       "      <td>Virender Sharma</td>\n",
       "    </tr>\n",
       "    <tr>\n",
       "      <th>50</th>\n",
       "      <td>1216535</td>\n",
       "      <td>2020</td>\n",
       "      <td>Dubai (DSC)</td>\n",
       "      <td>10-31-2020</td>\n",
       "      <td>DC</td>\n",
       "      <td>MI</td>\n",
       "      <td>MI</td>\n",
       "      <td>field</td>\n",
       "      <td>normal</td>\n",
       "      <td>0</td>\n",
       "      <td>MI</td>\n",
       "      <td>0</td>\n",
       "      <td>9</td>\n",
       "      <td>Ishan Kishan</td>\n",
       "      <td>Dubai International Cricket Stadium</td>\n",
       "      <td>Yeshwant Barde</td>\n",
       "      <td>Paul Reiffel</td>\n",
       "      <td>Anil Chaudhary</td>\n",
       "    </tr>\n",
       "  </tbody>\n",
       "</table>\n",
       "</div>"
      ],
      "text/plain": [
       "         id  season         city        date team1 team2 toss_winner  \\\n",
       "26  1216529    2020    Abu Dhabi    10-11-20    MI    DC          DC   \n",
       "50  1216535    2020  Dubai (DSC)  10-31-2020    DC    MI          MI   \n",
       "\n",
       "   toss_decision  result  dl_applied winner  win_by_runs  win_by_wickets  \\\n",
       "26           bat  normal           0     MI            0               5   \n",
       "50         field  normal           0     MI            0               9   \n",
       "\n",
       "   player_of_match                                venue         umpire1  \\\n",
       "26       Q de Kock      Sheikh Zayed Stadium, Abu Dhabi  Chris Gaffaney   \n",
       "50    Ishan Kishan  Dubai International Cricket Stadium  Yeshwant Barde   \n",
       "\n",
       "          umpire2          umpire3  \n",
       "26  Sundaram Ravi  Virender Sharma  \n",
       "50   Paul Reiffel   Anil Chaudhary  "
      ]
     },
     "execution_count": 109,
     "metadata": {},
     "output_type": "execute_result"
    }
   ],
   "source": [
    "midc=match[((match['team1']=='MI')|(match['team1']=='DC')) &\n",
    "        ((match['team2']=='MI')|(match['team2']=='DC'))]\n",
    "midc"
   ]
  },
  {
   "cell_type": "code",
   "execution_count": 110,
   "metadata": {},
   "outputs": [
    {
     "data": {
      "image/png": "[encoded data removed]",
      "text/plain": [
       "<Figure size 360x288 with 1 Axes>"
      ]
     },
     "metadata": {},
     "output_type": "display_data"
    }
   ],
   "source": [
    "#head to head game and win\n",
    "sns.set(style='dark')\n",
    "fig=plt.gcf()\n",
    "fig.set_size_inches(5,4)\n",
    "sns.countplot(midc['winner'],order=midc['winner'].value_counts().index)\n",
    "plt.text(0,1,str(midc['winner'].value_counts()['MI']),size=15,color='white')\n",
    "#plt.text(0.8,5,str(midc['winner'].value_counts()['DC']),size=10,color='white')\n",
    "plt.xlabel('Winner',fontsize=15)\n",
    "plt.ylabel('Count',fontsize=15)\n",
    "plt.yticks(fontsize=15)\n",
    "plt.title('MI vs DC - head to head')\n",
    "plt.show()"
   ]
  },
  {
   "cell_type": "code",
   "execution_count": 111,
   "metadata": {},
   "outputs": [
    {
     "name": "stdout",
     "output_type": "stream",
     "text": [
      "winning_pr_mi 64.28571428571429\n",
      "winning_pr_dc 57.142857142857146\n"
     ]
    }
   ],
   "source": [
    "#winning % of both team in 2020.\n",
    "match_win=match.winner.value_counts()\n",
    "match_played = match['team1'].value_counts()+ match['team2'].value_counts()\n",
    "winning_pr_mi=(match_win['MI']*100)/match_played['MI']\n",
    "print('winning_pr_mi',winning_pr_mi)\n",
    "winning_pr_dc=(match_win['DC']*100)/match_played['DC']\n",
    "print('winning_pr_dc',winning_pr_dc)"
   ]
  },
  {
   "cell_type": "code",
   "execution_count": 112,
   "metadata": {},
   "outputs": [
    {
     "data": {
      "text/html": [
       "<div>\n",
       "<style scoped>\n",
       "    .dataframe tbody tr th:only-of-type {\n",
       "        vertical-align: middle;\n",
       "    }\n",
       "\n",
       "    .dataframe tbody tr th {\n",
       "        vertical-align: top;\n",
       "    }\n",
       "\n",
       "    .dataframe thead th {\n",
       "        text-align: right;\n",
       "    }\n",
       "</style>\n",
       "<table border=\"1\" class=\"dataframe\">\n",
       "  <thead>\n",
       "    <tr style=\"text-align: right;\">\n",
       "      <th></th>\n",
       "      <th>match_id</th>\n",
       "      <th>inning</th>\n",
       "      <th>batting_team</th>\n",
       "      <th>bowling_team</th>\n",
       "      <th>over</th>\n",
       "      <th>ball</th>\n",
       "      <th>batsman</th>\n",
       "      <th>non_striker</th>\n",
       "      <th>bowler</th>\n",
       "      <th>is_super_over</th>\n",
       "      <th>...</th>\n",
       "      <th>bye_runs</th>\n",
       "      <th>legbye_runs</th>\n",
       "      <th>noball_runs</th>\n",
       "      <th>penalty_runs</th>\n",
       "      <th>batsman_runs</th>\n",
       "      <th>extra_runs</th>\n",
       "      <th>total_runs</th>\n",
       "      <th>player_dismissed</th>\n",
       "      <th>dismissal_kind</th>\n",
       "      <th>fielder</th>\n",
       "    </tr>\n",
       "  </thead>\n",
       "  <tbody>\n",
       "    <tr>\n",
       "      <th>0</th>\n",
       "      <td>1216492</td>\n",
       "      <td>1</td>\n",
       "      <td>MI</td>\n",
       "      <td>CSK</td>\n",
       "      <td>1</td>\n",
       "      <td>1</td>\n",
       "      <td>RG Sharma</td>\n",
       "      <td>Q de Kock</td>\n",
       "      <td>DL Chahar</td>\n",
       "      <td>0</td>\n",
       "      <td>...</td>\n",
       "      <td>0</td>\n",
       "      <td>0</td>\n",
       "      <td>0</td>\n",
       "      <td>0</td>\n",
       "      <td>4</td>\n",
       "      <td>0</td>\n",
       "      <td>4</td>\n",
       "      <td>NaN</td>\n",
       "      <td>NaN</td>\n",
       "      <td>NaN</td>\n",
       "    </tr>\n",
       "    <tr>\n",
       "      <th>1</th>\n",
       "      <td>1216492</td>\n",
       "      <td>1</td>\n",
       "      <td>MI</td>\n",
       "      <td>CSK</td>\n",
       "      <td>1</td>\n",
       "      <td>2</td>\n",
       "      <td>RG Sharma</td>\n",
       "      <td>Q de Kock</td>\n",
       "      <td>DL Chahar</td>\n",
       "      <td>0</td>\n",
       "      <td>...</td>\n",
       "      <td>0</td>\n",
       "      <td>0</td>\n",
       "      <td>0</td>\n",
       "      <td>0</td>\n",
       "      <td>1</td>\n",
       "      <td>0</td>\n",
       "      <td>1</td>\n",
       "      <td>NaN</td>\n",
       "      <td>NaN</td>\n",
       "      <td>NaN</td>\n",
       "    </tr>\n",
       "    <tr>\n",
       "      <th>2</th>\n",
       "      <td>1216492</td>\n",
       "      <td>1</td>\n",
       "      <td>MI</td>\n",
       "      <td>CSK</td>\n",
       "      <td>1</td>\n",
       "      <td>3</td>\n",
       "      <td>Q de Kock</td>\n",
       "      <td>RG Sharma</td>\n",
       "      <td>DL Chahar</td>\n",
       "      <td>0</td>\n",
       "      <td>...</td>\n",
       "      <td>0</td>\n",
       "      <td>0</td>\n",
       "      <td>0</td>\n",
       "      <td>0</td>\n",
       "      <td>2</td>\n",
       "      <td>0</td>\n",
       "      <td>2</td>\n",
       "      <td>NaN</td>\n",
       "      <td>NaN</td>\n",
       "      <td>NaN</td>\n",
       "    </tr>\n",
       "    <tr>\n",
       "      <th>3</th>\n",
       "      <td>1216492</td>\n",
       "      <td>1</td>\n",
       "      <td>MI</td>\n",
       "      <td>CSK</td>\n",
       "      <td>1</td>\n",
       "      <td>4</td>\n",
       "      <td>Q de Kock</td>\n",
       "      <td>RG Sharma</td>\n",
       "      <td>DL Chahar</td>\n",
       "      <td>0</td>\n",
       "      <td>...</td>\n",
       "      <td>0</td>\n",
       "      <td>0</td>\n",
       "      <td>0</td>\n",
       "      <td>0</td>\n",
       "      <td>4</td>\n",
       "      <td>0</td>\n",
       "      <td>4</td>\n",
       "      <td>NaN</td>\n",
       "      <td>NaN</td>\n",
       "      <td>NaN</td>\n",
       "    </tr>\n",
       "    <tr>\n",
       "      <th>4</th>\n",
       "      <td>1216492</td>\n",
       "      <td>1</td>\n",
       "      <td>MI</td>\n",
       "      <td>CSK</td>\n",
       "      <td>1</td>\n",
       "      <td>5</td>\n",
       "      <td>Q de Kock</td>\n",
       "      <td>RG Sharma</td>\n",
       "      <td>DL Chahar</td>\n",
       "      <td>0</td>\n",
       "      <td>...</td>\n",
       "      <td>0</td>\n",
       "      <td>0</td>\n",
       "      <td>0</td>\n",
       "      <td>0</td>\n",
       "      <td>0</td>\n",
       "      <td>0</td>\n",
       "      <td>0</td>\n",
       "      <td>NaN</td>\n",
       "      <td>NaN</td>\n",
       "      <td>NaN</td>\n",
       "    </tr>\n",
       "  </tbody>\n",
       "</table>\n",
       "<p>5 rows × 21 columns</p>\n",
       "</div>"
      ],
      "text/plain": [
       "   match_id  inning batting_team bowling_team  over  ball    batsman  \\\n",
       "0   1216492       1           MI          CSK     1     1  RG Sharma   \n",
       "1   1216492       1           MI          CSK     1     2  RG Sharma   \n",
       "2   1216492       1           MI          CSK     1     3  Q de Kock   \n",
       "3   1216492       1           MI          CSK     1     4  Q de Kock   \n",
       "4   1216492       1           MI          CSK     1     5  Q de Kock   \n",
       "\n",
       "  non_striker     bowler  is_super_over  ...  bye_runs  legbye_runs  \\\n",
       "0   Q de Kock  DL Chahar              0  ...         0            0   \n",
       "1   Q de Kock  DL Chahar              0  ...         0            0   \n",
       "2   RG Sharma  DL Chahar              0  ...         0            0   \n",
       "3   RG Sharma  DL Chahar              0  ...         0            0   \n",
       "4   RG Sharma  DL Chahar              0  ...         0            0   \n",
       "\n",
       "   noball_runs  penalty_runs  batsman_runs  extra_runs  total_runs  \\\n",
       "0            0             0             4           0           4   \n",
       "1            0             0             1           0           1   \n",
       "2            0             0             2           0           2   \n",
       "3            0             0             4           0           4   \n",
       "4            0             0             0           0           0   \n",
       "\n",
       "   player_dismissed dismissal_kind fielder  \n",
       "0               NaN            NaN     NaN  \n",
       "1               NaN            NaN     NaN  \n",
       "2               NaN            NaN     NaN  \n",
       "3               NaN            NaN     NaN  \n",
       "4               NaN            NaN     NaN  \n",
       "\n",
       "[5 rows x 21 columns]"
      ]
     },
     "execution_count": 112,
     "metadata": {},
     "output_type": "execute_result"
    }
   ],
   "source": [
    "#import the data 2020\n",
    "deliveries=pd.read_csv('D:/college/widhya/ipl data/deliveries ipl 2020.csv')\n",
    "deliveries.head()"
   ]
  },
  {
   "cell_type": "code",
   "execution_count": 113,
   "metadata": {},
   "outputs": [],
   "source": [
    "match_played = match['team1'].value_counts()+ match['team2'].value_counts()"
   ]
  },
  {
   "cell_type": "code",
   "execution_count": null,
   "metadata": {},
   "outputs": [],
   "source": []
  },
  {
   "cell_type": "code",
   "execution_count": 114,
   "metadata": {},
   "outputs": [
    {
     "data": {
      "text/plain": [
       "1.5714285714285714"
      ]
     },
     "execution_count": 114,
     "metadata": {},
     "output_type": "execute_result"
    }
   ],
   "source": [
    "#dc wicket lost in pp 2020.\n",
    "dc_=deliveries[deliveries.batting_team=='DC']\n",
    "dc__wicket=dc_[dc_.over<7]['player_dismissed'].count()\n",
    "dc__wicket/(match_played['DC'])"
   ]
  },
  {
   "cell_type": "code",
   "execution_count": 121,
   "metadata": {},
   "outputs": [
    {
     "data": {
      "text/plain": [
       "<matplotlib.axes._subplots.AxesSubplot at 0x22a4483add8>"
      ]
     },
     "execution_count": 121,
     "metadata": {},
     "output_type": "execute_result"
    },
    {
     "data": {
      "image/png": "[encoded data removed]",
      "text/plain": [
       "<Figure size 432x288 with 1 Axes>"
      ]
     },
     "metadata": {},
     "output_type": "display_data"
    }
   ],
   "source": [
    "#prithvi shaw\n",
    "ps=deliveries2020[deliveries2020['batsman']=='P Shaw']\n",
    "ps_run=(ps.groupby(['match_id'])['batsman_runs'].sum())\n",
    "ps_run.hist()"
   ]
  },
  {
   "cell_type": "code",
   "execution_count": 123,
   "metadata": {},
   "outputs": [
    {
     "data": {
      "text/plain": [
       "caught               7\n",
       "caught and bowled    2\n",
       "bowled               2\n",
       "stumped              1\n",
       "Name: dismissal_kind, dtype: int64"
      ]
     },
     "execution_count": 123,
     "metadata": {},
     "output_type": "execute_result"
    }
   ],
   "source": [
    "ps['dismissal_kind'].value_counts()\n",
    "ps_ball=ps.groupby(['match_id'])['ball'].count()\n",
    "ps_ball"
   ]
  },
  {
   "cell_type": "code",
   "execution_count": 124,
   "metadata": {},
   "outputs": [
    {
     "data": {
      "text/plain": [
       "caught               7\n",
       "caught and bowled    2\n",
       "bowled               2\n",
       "stumped              1\n",
       "Name: dismissal_kind, dtype: int64"
      ]
     },
     "execution_count": 124,
     "metadata": {},
     "output_type": "execute_result"
    }
   ],
   "source": [
    "ps['dismissal_kind'].value_counts()"
   ]
  },
  {
   "cell_type": "code",
   "execution_count": 125,
   "metadata": {},
   "outputs": [
    {
     "data": {
      "text/plain": [
       "TA Boult          2\n",
       "J Archer          2\n",
       "Mohammed Siraj    2\n",
       "DL Chahar         1\n",
       "JDS Neesham       1\n",
       "Mohammed Shami    1\n",
       "KL Nagarkoti      1\n",
       "PP Chawla         1\n",
       "P Kumar           1\n",
       "Name: bowler, dtype: int64"
      ]
     },
     "execution_count": 125,
     "metadata": {},
     "output_type": "execute_result"
    }
   ],
   "source": [
    "ps_=ps.dropna(subset=['batsman','dismissal_kind'])\n",
    "ps_.bowler.value_counts()"
   ]
  },
  {
   "cell_type": "code",
   "execution_count": 126,
   "metadata": {},
   "outputs": [
    {
     "data": {
      "text/plain": [
       "<matplotlib.axes._subplots.AxesSubplot at 0x22a44f2d860>"
      ]
     },
     "execution_count": 126,
     "metadata": {},
     "output_type": "execute_result"
    },
    {
     "data": {
      "image/png": "[encoded data removed]",
      "text/plain": [
       "<Figure size 432x288 with 1 Axes>"
      ]
     },
     "metadata": {},
     "output_type": "display_data"
    }
   ],
   "source": [
    "#S Dhawan\n",
    "sd=deliveries2020[deliveries2020['batsman']=='S Dhawan']\n",
    "sd_run=(sd.groupby(['match_id'])['batsman_runs'].sum())\n",
    "sd_run.hist()"
   ]
  },
  {
   "cell_type": "code",
   "execution_count": 130,
   "metadata": {},
   "outputs": [
    {
     "data": {
      "text/plain": [
       "caught     8\n",
       "bowled     1\n",
       "lbw        1\n",
       "run out    1\n",
       "Name: dismissal_kind, dtype: int64"
      ]
     },
     "execution_count": 130,
     "metadata": {},
     "output_type": "execute_result"
    }
   ],
   "source": [
    "sd['dismissal_kind'].value_counts()"
   ]
  },
  {
   "cell_type": "code",
   "execution_count": 131,
   "metadata": {},
   "outputs": [
    {
     "data": {
      "text/plain": [
       "TA Boult          1\n",
       "Sandeep Sharma    1\n",
       "S Gopal           1\n",
       "J Archer          1\n",
       "CV Varun          1\n",
       "Mohammed Shami    1\n",
       "Rashid Khan       1\n",
       "I Udana           1\n",
       "Shahbaz Ahmed     1\n",
       "PP Chawla         1\n",
       "PJ Cummins        1\n",
       "Name: bowler, dtype: int64"
      ]
     },
     "execution_count": 131,
     "metadata": {},
     "output_type": "execute_result"
    }
   ],
   "source": [
    "sd_=sd.dropna(subset=['batsman','dismissal_kind'])\n",
    "sd_.bowler.value_counts()"
   ]
  },
  {
   "cell_type": "code",
   "execution_count": 132,
   "metadata": {},
   "outputs": [
    {
     "data": {
      "text/plain": [
       "<matplotlib.axes._subplots.AxesSubplot at 0x22a44f99b38>"
      ]
     },
     "execution_count": 132,
     "metadata": {},
     "output_type": "execute_result"
    },
    {
     "data": {
      "image/png": "[encoded data removed]",
      "text/plain": [
       "<Figure size 432x288 with 1 Axes>"
      ]
     },
     "metadata": {},
     "output_type": "display_data"
    }
   ],
   "source": [
    "#SS Iyer\n",
    "si=deliveries2020[deliveries2020['batsman']=='SS Iyer']\n",
    "si_run=(si.groupby(['match_id'])['batsman_runs'].sum())\n",
    "si_run.hist()"
   ]
  },
  {
   "cell_type": "code",
   "execution_count": 133,
   "metadata": {},
   "outputs": [
    {
     "data": {
      "text/plain": [
       "caught     11\n",
       "stumped     1\n",
       "run out     1\n",
       "Name: dismissal_kind, dtype: int64"
      ]
     },
     "execution_count": 133,
     "metadata": {},
     "output_type": "execute_result"
    }
   ],
   "source": [
    "si['dismissal_kind'].value_counts()"
   ]
  },
  {
   "cell_type": "code",
   "execution_count": 134,
   "metadata": {},
   "outputs": [
    {
     "data": {
      "text/plain": [
       "V Shankar         1\n",
       "Rashid Khan       1\n",
       "M Ashwin          1\n",
       "Shahbaz Ahmed     1\n",
       "Ali               1\n",
       "S Curran          1\n",
       "AJ Tye            1\n",
       "DJ Bravo          1\n",
       "Kartik Tyagi      1\n",
       "Mohammed Shami    1\n",
       "Ishan Kishan      1\n",
       "RD Chahar         1\n",
       "CV Varun          1\n",
       "Name: bowler, dtype: int64"
      ]
     },
     "execution_count": 134,
     "metadata": {},
     "output_type": "execute_result"
    }
   ],
   "source": [
    "si_=si.dropna(subset=['batsman','dismissal_kind'])\n",
    "si_.bowler.value_counts()"
   ]
  },
  {
   "cell_type": "code",
   "execution_count": 135,
   "metadata": {},
   "outputs": [
    {
     "data": {
      "text/plain": [
       "<matplotlib.axes._subplots.AxesSubplot at 0x22a4500d630>"
      ]
     },
     "execution_count": 135,
     "metadata": {},
     "output_type": "execute_result"
    },
    {
     "data": {
      "image/png": "[encoded data removed]",
      "text/plain": [
       "<Figure size 432x288 with 1 Axes>"
      ]
     },
     "metadata": {},
     "output_type": "display_data"
    }
   ],
   "source": [
    "#AM Rahane\n",
    "ar=deliveries2020[deliveries2020['batsman']=='AM Rahane']\n",
    "ar_run=(ar.groupby(['match_id'])['batsman_runs'].sum())\n",
    "ar_run.hist()"
   ]
  },
  {
   "cell_type": "code",
   "execution_count": 137,
   "metadata": {},
   "outputs": [
    {
     "data": {
      "text/plain": [
       "lbw       3\n",
       "caught    3\n",
       "Name: dismissal_kind, dtype: int64"
      ]
     },
     "execution_count": 137,
     "metadata": {},
     "output_type": "execute_result"
    }
   ],
   "source": [
    "ar['dismissal_kind'].value_counts()"
   ]
  },
  {
   "cell_type": "code",
   "execution_count": 138,
   "metadata": {},
   "outputs": [
    {
     "data": {
      "text/plain": [
       "Rashid Khan          1\n",
       "DL Chahar            1\n",
       "Ishan Kishan         1\n",
       "J Archer             1\n",
       "PJ Cummins           1\n",
       "Washington Sundar    1\n",
       "Name: bowler, dtype: int64"
      ]
     },
     "execution_count": 138,
     "metadata": {},
     "output_type": "execute_result"
    }
   ],
   "source": [
    "ar_=ar.dropna(subset=['batsman','dismissal_kind'])\n",
    "ar_.bowler.value_counts()"
   ]
  },
  {
   "cell_type": "code",
   "execution_count": 144,
   "metadata": {},
   "outputs": [
    {
     "data": {
      "text/plain": [
       "bowler\n",
       "Ishan Kishan    0\n",
       "JL Pattinson    8\n",
       "TA Boult        7\n",
       "Name: batsman_runs, dtype: int64"
      ]
     },
     "execution_count": 144,
     "metadata": {},
     "output_type": "execute_result"
    }
   ],
   "source": [
    "#AM Rahane\n",
    "ar=deliveries2020[deliveries2020['batsman']=='AM Rahane']\n",
    "ar_mi=ar[ar['bowling_team']=='MI']\n",
    "#ar_run=(ar_mi.groupby(['match_id'])['batsman_runs'].sum())\n",
    "#ar_run.hist()\n",
    "ar_mi.groupby(by='bowler')['batsman_runs'].sum()"
   ]
  },
  {
   "cell_type": "code",
   "execution_count": 145,
   "metadata": {},
   "outputs": [
    {
     "data": {
      "text/plain": [
       "<matplotlib.axes._subplots.AxesSubplot at 0x22a451134a8>"
      ]
     },
     "execution_count": 145,
     "metadata": {},
     "output_type": "execute_result"
    },
    {
     "data": {
      "image/png": "[encoded data removed]",
      "text/plain": [
       "<Figure size 432x288 with 1 Axes>"
      ]
     },
     "metadata": {},
     "output_type": "display_data"
    }
   ],
   "source": [
    "#MP Stoinis\n",
    "ms=deliveries2020[deliveries2020['batsman']=='MP Stoinis']\n",
    "ms_run=(ms.groupby(['match_id'])['batsman_runs'].sum())\n",
    "ms_run.hist()"
   ]
  },
  {
   "cell_type": "code",
   "execution_count": 146,
   "metadata": {},
   "outputs": [
    {
     "data": {
      "text/plain": [
       "R Tewatia         2\n",
       "AD Russell        1\n",
       "J Archer          1\n",
       "Mohammed Shami    1\n",
       "SN Thakur         1\n",
       "T Natarajan       1\n",
       "S Nadeem          1\n",
       "JJ Bumrah         1\n",
       "RD Chahar         1\n",
       "CV Varun          1\n",
       "Name: bowler, dtype: int64"
      ]
     },
     "execution_count": 146,
     "metadata": {},
     "output_type": "execute_result"
    }
   ],
   "source": [
    "ms_=ms.dropna(subset=['batsman','dismissal_kind'])\n",
    "ms_.bowler.value_counts()"
   ]
  },
  {
   "cell_type": "code",
   "execution_count": 149,
   "metadata": {},
   "outputs": [
    {
     "data": {
      "text/plain": [
       "<matplotlib.axes._subplots.AxesSubplot at 0x22a45212eb8>"
      ]
     },
     "execution_count": 149,
     "metadata": {},
     "output_type": "execute_result"
    },
    {
     "data": {
      "image/png": "[encoded data removed]",
      "text/plain": [
       "<Figure size 432x288 with 1 Axes>"
      ]
     },
     "metadata": {},
     "output_type": "display_data"
    }
   ],
   "source": [
    "#RR Pant\n",
    "rp=deliveries2020[deliveries2020['batsman']=='RR Pant']\n",
    "rp_run=(rp.groupby(['match_id'])['batsman_runs'].sum())\n",
    "rp_run.hist()"
   ]
  },
  {
   "cell_type": "code",
   "execution_count": 151,
   "metadata": {},
   "outputs": [
    {
     "data": {
      "text/plain": [
       "AD Russell        1\n",
       "Rashid Khan       1\n",
       "CV Varun          1\n",
       "Ravi Bishnoi      1\n",
       "Mohammed Siraj    1\n",
       "Sandeep Sharma    1\n",
       "JJ Bumrah         1\n",
       "GJ Maxwell        1\n",
       "Name: bowler, dtype: int64"
      ]
     },
     "execution_count": 151,
     "metadata": {},
     "output_type": "execute_result"
    }
   ],
   "source": [
    "rp_=rp.dropna(subset=['batsman','dismissal_kind'])\n",
    "rp_.bowler.value_counts()"
   ]
  },
  {
   "cell_type": "code",
   "execution_count": 152,
   "metadata": {},
   "outputs": [
    {
     "data": {
      "text/plain": [
       "<matplotlib.axes._subplots.AxesSubplot at 0x22a45426550>"
      ]
     },
     "execution_count": 152,
     "metadata": {},
     "output_type": "execute_result"
    },
    {
     "data": {
      "image/png": "[encoded data removed]",
      "text/plain": [
       "<Figure size 432x288 with 1 Axes>"
      ]
     },
     "metadata": {},
     "output_type": "display_data"
    }
   ],
   "source": [
    "#RG sharma\n",
    "s=deliveries2020[deliveries2020['batsman']=='RG Sharma']\n",
    "s_run=(s.groupby(['match_id'])['batsman_runs'].sum())\n",
    "s_run.hist()"
   ]
  },
  {
   "cell_type": "code",
   "execution_count": 156,
   "metadata": {},
   "outputs": [
    {
     "data": {
      "text/plain": [
       "Sandeep Sharma       2\n",
       "Shivam Mavi          2\n",
       "S Gopal              1\n",
       "Washington Sundar    1\n",
       "Mohammed Shami       1\n",
       "SP Narine            1\n",
       "Arshdeep Singh       1\n",
       "PP Chawla            1\n",
       "Ravi Bishnoi         1\n",
       "AR  Patel            1\n",
       "Name: bowler, dtype: int64"
      ]
     },
     "execution_count": 156,
     "metadata": {},
     "output_type": "execute_result"
    }
   ],
   "source": [
    "s_=s.dropna(subset=['batsman','dismissal_kind'])\n",
    "s_.bowler.value_counts()"
   ]
  },
  {
   "cell_type": "code",
   "execution_count": 157,
   "metadata": {},
   "outputs": [
    {
     "data": {
      "text/plain": [
       "<matplotlib.axes._subplots.AxesSubplot at 0x22a4549edd8>"
      ]
     },
     "execution_count": 157,
     "metadata": {},
     "output_type": "execute_result"
    },
    {
     "data": {
      "image/png": "[encoded data removed]",
      "text/plain": [
       "<Figure size 432x288 with 1 Axes>"
      ]
     },
     "metadata": {},
     "output_type": "display_data"
    }
   ],
   "source": [
    "#Q de Kock\n",
    "de=deliveries2020[deliveries2020['batsman']=='Q de Kock']\n",
    "de_run=(de.groupby(['match_id'])['batsman_runs'].sum())\n",
    "de_run.hist()"
   ]
  },
  {
   "cell_type": "code",
   "execution_count": 158,
   "metadata": {},
   "outputs": [
    {
     "data": {
      "text/plain": [
       "CJ Jordan         1\n",
       "YS Chahal         1\n",
       "J Archer          1\n",
       "Sandeep Sharma    1\n",
       "Mohammed Siraj    1\n",
       "Anrich Nortje     1\n",
       "S Curran          1\n",
       "Kartik Tyagi      1\n",
       "Rashid Khan       1\n",
       "Mohammed Shami    1\n",
       "R Ashwin          1\n",
       "Cottrell          1\n",
       "Shivam Mavi       1\n",
       "Name: bowler, dtype: int64"
      ]
     },
     "execution_count": 158,
     "metadata": {},
     "output_type": "execute_result"
    }
   ],
   "source": [
    "de_=de.dropna(subset=['batsman','dismissal_kind'])\n",
    "de_.bowler.value_counts()"
   ]
  },
  {
   "cell_type": "code",
   "execution_count": 167,
   "metadata": {},
   "outputs": [
    {
     "data": {
      "text/plain": [
       "160.8108108108108"
      ]
     },
     "execution_count": 167,
     "metadata": {},
     "output_type": "execute_result"
    }
   ],
   "source": [
    "#HH PANDYA\n",
    "hh=deliveries2020[deliveries2020['batsman']=='HH Pandya']\n",
    "hh_run=hh['batsman_runs'].sum()\n",
    "hh_ball=hh.shape[0]\n",
    "hh_strike_rate=(hh_run/hh_ball)*100\n",
    "hh_strike_rate"
   ]
  },
  {
   "cell_type": "code",
   "execution_count": 160,
   "metadata": {},
   "outputs": [
    {
     "data": {
      "text/plain": [
       "A Zampa           1\n",
       "MP Stoinis        1\n",
       "AD Russell        1\n",
       "RA Jadeja         1\n",
       "Mohammed Shami    1\n",
       "S Kaul            1\n",
       "CH Morris         1\n",
       "Name: bowler, dtype: int64"
      ]
     },
     "execution_count": 160,
     "metadata": {},
     "output_type": "execute_result"
    }
   ],
   "source": [
    "de_=hh.dropna(subset=['batsman','dismissal_kind'])\n",
    "de_.bowler.value_counts()"
   ]
  },
  {
   "cell_type": "code",
   "execution_count": 168,
   "metadata": {},
   "outputs": [
    {
     "data": {
      "text/plain": [
       "179.4701986754967"
      ]
     },
     "execution_count": 168,
     "metadata": {},
     "output_type": "execute_result"
    }
   ],
   "source": [
    "#KA Pollard\n",
    "kp=deliveries2020[deliveries2020['batsman']=='KA Pollard']\n",
    "kp_run=kp['batsman_runs'].sum()\n",
    "kp_ball=kp.shape[0]\n",
    "kp_strike_rate=(kp_run/kp_ball)*100\n",
    "kp_strike_rate"
   ]
  },
  {
   "cell_type": "code",
   "execution_count": 170,
   "metadata": {},
   "outputs": [
    {
     "data": {
      "text/plain": [
       "CJ Jordan    1\n",
       "N Saini      1\n",
       "S Gopal      1\n",
       "JO Holder    1\n",
       "L Ngidi      1\n",
       "Name: bowler, dtype: int64"
      ]
     },
     "execution_count": 170,
     "metadata": {},
     "output_type": "execute_result"
    }
   ],
   "source": [
    "de_=kp.dropna(subset=['batsman','dismissal_kind'])\n",
    "de_.bowler.value_counts()"
   ]
  },
  {
   "cell_type": "code",
   "execution_count": 15,
   "metadata": {},
   "outputs": [
    {
     "data": {
      "text/plain": [
       "<matplotlib.axes._subplots.AxesSubplot at 0x22a42bd2080>"
      ]
     },
     "execution_count": 15,
     "metadata": {},
     "output_type": "execute_result"
    },
    {
     "data": {
      "image/png": "[encoded data removed]",
      "text/plain": [
       "<Figure size 432x288 with 1 Axes>"
      ]
     },
     "metadata": {},
     "output_type": "display_data"
    }
   ],
   "source": [
    "#dc run in death over vs mi\n",
    "dc_m=deliveries2020[deliveries2020.batting_team=='DC']\n",
    "dc_=dc_m[dc_m['over']>14]\n",
    "d_p=dc_.dropna(subset=['batsman','total_runs'])\n",
    "(d_p.groupby(by='match_id')['total_runs'].sum()).hist()"
   ]
  },
  {
   "cell_type": "code",
   "execution_count": 186,
   "metadata": {},
   "outputs": [
    {
     "data": {
      "text/plain": [
       "JJ Bumrah          13\n",
       "TA Boult            7\n",
       "JL Pattinson        4\n",
       "RD Chahar           4\n",
       "NM Coulter-Nile     2\n",
       "KA Pollard          2\n",
       "MK Pandey           2\n",
       "Ishan Kishan        1\n",
       "Name: bowler, dtype: int64"
      ]
     },
     "execution_count": 186,
     "metadata": {},
     "output_type": "execute_result"
    }
   ],
   "source": [
    "mi_d=deliveries2020[deliveries2020.bowling_team=='MI']\n",
    "mi_d=mi_d[mi_d['over']>14]\n",
    "mi_b=mi_d.dropna(subset=['bowler','dismissal_kind'])\n",
    "mi_b.bowler.value_counts()"
   ]
  },
  {
   "cell_type": "code",
   "execution_count": 185,
   "metadata": {},
   "outputs": [
    {
     "data": {
      "text/plain": [
       "TA Boult           12\n",
       "JJ Bumrah           7\n",
       "JL Pattinson        4\n",
       "MK Pandey           1\n",
       "Ishan Kishan        1\n",
       "NM Coulter-Nile     1\n",
       "Name: bowler, dtype: int64"
      ]
     },
     "execution_count": 185,
     "metadata": {},
     "output_type": "execute_result"
    }
   ],
   "source": [
    "mi_d=deliveries2020[deliveries2020.bowling_team=='MI']\n",
    "mi_d=mi_d[mi_d['over']<7]\n",
    "mi_b=mi_d.dropna(subset=['bowler','dismissal_kind'])\n",
    "mi_b.bowler.value_counts()"
   ]
  },
  {
   "cell_type": "code",
   "execution_count": 180,
   "metadata": {},
   "outputs": [
    {
     "data": {
      "text/plain": [
       "TA Boult           193\n",
       "JL Pattinson       107\n",
       "JJ Bumrah           98\n",
       "NM Coulter-Nile     34\n",
       "MK Pandey           26\n",
       "RD Chahar           18\n",
       "DS Kulkarni         13\n",
       "MJ Guptill          12\n",
       "Q de Kock           12\n",
       "KH Pandya            7\n",
       "KD Karthik           6\n",
       "Ishan Kishan         6\n",
       "MEK Hussey           6\n",
       "Name: bowler, dtype: int64"
      ]
     },
     "execution_count": 180,
     "metadata": {},
     "output_type": "execute_result"
    }
   ],
   "source": [
    "mi_d=deliveries2020[deliveries2020.bowling_team=='MI']\n",
    "mi_d=mi_d[mi_d['over']<7]\n",
    "mi_d_=mi_d.dropna(subset=['bowler','dismissal_kind'])\n",
    "mi_d.bowler.value_counts()"
   ]
  },
  {
   "cell_type": "code",
   "execution_count": null,
   "metadata": {},
   "outputs": [],
   "source": []
  },
  {
   "cell_type": "code",
   "execution_count": 172,
   "metadata": {},
   "outputs": [
    {
     "data": {
      "text/plain": [
       "<matplotlib.axes._subplots.AxesSubplot at 0x22a455f38d0>"
      ]
     },
     "execution_count": 172,
     "metadata": {},
     "output_type": "execute_result"
    },
    {
     "data": {
      "image/png": "[encoded data removed]",
      "text/plain": [
       "<Figure size 432x288 with 1 Axes>"
      ]
     },
     "metadata": {},
     "output_type": "display_data"
    }
   ],
   "source": [
    "mi_d=deliveries2020[deliveries2020.bowling_team=='MI']\n",
    "mi_d=mi_d[mi_d['over']>14]\n",
    "mi_d_=mi_d.dropna(subset=['batsman','total_runs'])\n",
    "(mi_d_.groupby(by='match_id')['total_runs'].sum()).hist()"
   ]
  },
  {
   "cell_type": "code",
   "execution_count": 17,
   "metadata": {},
   "outputs": [
    {
     "data": {
      "text/plain": [
       "over\n",
       "1     6\n",
       "2     2\n",
       "3     3\n",
       "4     2\n",
       "5     4\n",
       "6     4\n",
       "7     1\n",
       "8     1\n",
       "10    3\n",
       "11    6\n",
       "12    3\n",
       "13    3\n",
       "14    6\n",
       "15    4\n",
       "16    3\n",
       "17    4\n",
       "18    3\n",
       "19    5\n",
       "20    4\n",
       "Name: player_dismissed, dtype: int64"
      ]
     },
     "execution_count": 17,
     "metadata": {},
     "output_type": "execute_result"
    }
   ],
   "source": [
    "mi_d=deliveries2020[deliveries2020.batting_team=='MI']\n",
    "ps=mi_d.dropna(subset=['batsman','dismissal_kind'])\n",
    "over=ps.groupby(by='over')\n",
    "(over.player_dismissed.count())"
   ]
  },
  {
   "cell_type": "code",
   "execution_count": 18,
   "metadata": {},
   "outputs": [
    {
     "data": {
      "text/plain": [
       "over\n",
       "1     7\n",
       "2     4\n",
       "3     3\n",
       "4     3\n",
       "5     3\n",
       "6     2\n",
       "7     3\n",
       "8     1\n",
       "9     1\n",
       "10    2\n",
       "11    2\n",
       "12    8\n",
       "13    4\n",
       "14    6\n",
       "15    2\n",
       "16    7\n",
       "17    6\n",
       "18    5\n",
       "19    9\n",
       "20    9\n",
       "Name: player_dismissed, dtype: int64"
      ]
     },
     "execution_count": 18,
     "metadata": {},
     "output_type": "execute_result"
    }
   ],
   "source": [
    "mi_d=deliveries2020[deliveries2020.batting_team=='DC']\n",
    "ps=mi_d.dropna(subset=['batsman','dismissal_kind'])\n",
    "over=ps.groupby(by='over')\n",
    "(over.player_dismissed.count())"
   ]
  },
  {
   "cell_type": "code",
   "execution_count": null,
   "metadata": {},
   "outputs": [],
   "source": []
  },
  {
   "cell_type": "code",
   "execution_count": null,
   "metadata": {},
   "outputs": [],
   "source": []
  }
 ],
 "metadata": {
  "kernelspec": {
   "display_name": "Python 3",
   "language": "python",
   "name": "python3"
  },
  "language_info": {
   "codemirror_mode": {
    "name": "ipython",
    "version": 3
   },
   "file_extension": ".py",
   "mimetype": "text/x-python",
   "name": "python",
   "nbconvert_exporter": "python",
   "pygments_lexer": "ipython3",
   "version": "3.7.3"
  }
 },
 "nbformat": 4,
 "nbformat_minor": 2
}
